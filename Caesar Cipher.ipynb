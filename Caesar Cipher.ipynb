{
 "cells": [
  {
   "cell_type": "code",
   "execution_count": 1,
   "metadata": {},
   "outputs": [],
   "source": [
    "import random\n",
    "from nltk.corpus import words\n",
    "import json\n",
    "import numpy as np"
   ]
  },
  {
   "cell_type": "code",
   "execution_count": 2,
   "metadata": {},
   "outputs": [],
   "source": [
    "alpha_to_num_lower = dict()\n",
    "alpha_to_num_upper = dict()\n",
    "for i in range(26):\n",
    "    alpha_to_num_lower[chr(i+97)] = i\n",
    "    alpha_to_num_upper[chr(i+65)] = i\n",
    "num_to_alpha_lower = dict([(value,key) for key,value in alpha_to_num_lower.items()])\n",
    "num_to_alpha_upper = dict([(value,key) for key,value in alpha_to_num_upper.items()])"
   ]
  },
  {
   "cell_type": "code",
   "execution_count": 41,
   "metadata": {},
   "outputs": [],
   "source": [
    "def doEncryption(text,encryptKey = random.randint(0,25)):\n",
    "    encryptedText = \"\"\n",
    "    for i in range(len(text)):\n",
    "        currentLetter = text[i]\n",
    "        if currentLetter in alpha_to_num_lower:\n",
    "            encryptedText += num_to_alpha_lower[(alpha_to_num_lower[currentLetter] + encryptKey)%26]\n",
    "        elif currentLetter in alpha_to_num_upper:\n",
    "            encryptedText += num_to_alpha_upper[(alpha_to_num_upper[currentLetter] + encryptKey)%26]\n",
    "        else:\n",
    "            encryptedText += currentLetter\n",
    "            \n",
    "    return encryptedText\n",
    "def doDecryptionWithoutKey(text):\n",
    "    original_text = text\n",
    "    text = text.lower()\n",
    "    two_letter_words_to_num = dict()\n",
    "    with open(\"Two_letter_word.txt\") as f:\n",
    "        two_letter_words_to_num = json.loads((f.read()).replace(\"\\'\",\"\\\"\"))\n",
    "\n",
    "    num_to_two_letter_word = dict()\n",
    "    for key,value in two_letter_words_to_num.items():\n",
    "        if value not in num_to_two_letter_word:\n",
    "            num_to_two_letter_word[value] = []\n",
    "        num_to_two_letter_word[value].append(key)\n",
    "\n",
    "    two_letter_words_in_text = [word for word in text.split() if len(word) == 2]\n",
    "\n",
    "    two_letter_words_in_text_dict = dict()\n",
    "    for i in (two_letter_words_in_text):\n",
    "        two_letter_words_in_text_dict[i] = abs(ord(i[0]) - ord(i[1]));\n",
    "\n",
    "    usefull_word_dict = dict()\n",
    "    for word_key,word_value in two_letter_words_in_text_dict.items():\n",
    "        if word_key not in usefull_word_dict:\n",
    "            usefull_word_dict[word_key] = []\n",
    "        if word_value in num_to_two_letter_word:\n",
    "            usefull_word_dict[word_key] = (num_to_two_letter_word[word_value])\n",
    "\n",
    "    most_usefull_word = dict()\n",
    "    unique_key = []\n",
    "    for key,value in usefull_word_dict.items():\n",
    "        if key not in most_usefull_word:\n",
    "            most_usefull_word[key] = []\n",
    "        x,y  = key[0], key[1]\n",
    "        for word in value:\n",
    "            if abs(ord(word[0])-ord(x)) == abs(ord(word[1]) - ord(y)):\n",
    "                genKey = (ord(x)-ord(word[0]))%26\n",
    "                if genKey!=0:\n",
    "                    unique_key.append(genKey)\n",
    "                    most_usefull_word[key].append(word)\n",
    "    unique_key = set(unique_key)\n",
    "    dec_text_list = []\n",
    "    for i in unique_key:\n",
    "        dec_text = (doDecryption(original_text,i))\n",
    "        dec_text_list.append(dec_text)\n",
    "        for j in dec_text.split():\n",
    "            if len(j)==2:\n",
    "                if j not in two_letter_words_to_num.keys():\n",
    "                    dec_text_list.remove(dec_text)\n",
    "                    break\n",
    "    return dec_text_list\n",
    "\n",
    "def doDecryption(text,decryptKey=None):\n",
    "    decryptedText = \"\"\n",
    "    if decryptKey == None:\n",
    "        return doDecryptionWithoutKey(text)\n",
    "    else:\n",
    "        for i in range(len(text)):\n",
    "            currentLetter = text[i]\n",
    "            if currentLetter in alpha_to_num_lower:\n",
    "                decryptedText += num_to_alpha_lower[(alpha_to_num_lower[currentLetter] - decryptKey)%26]\n",
    "            elif currentLetter in alpha_to_num_upper:\n",
    "                decryptedText += num_to_alpha_upper[(alpha_to_num_upper[currentLetter] - decryptKey)%26]\n",
    "            else:\n",
    "                decryptedText += currentLetter\n",
    "    return decryptedText"
   ]
  },
  {
   "cell_type": "markdown",
   "metadata": {},
   "source": [
    "## What do you wnat to do with text?\n",
    "<ol>\n",
    "    <li>Encrypt Text with key</li>\n",
    "    <li>Encrypt Text with random key</li>\n",
    "    <li>Decrypt Text without key</li>\n",
    "    <li>Decrypt Text with key</li>\n",
    "</ol>"
   ]
  },
  {
   "cell_type": "code",
   "execution_count": 44,
   "metadata": {},
   "outputs": [
    {
     "name": "stdin",
     "output_type": "stream",
     "text": [
      "Enter your choice: 3\n",
      "Enter the Text:\n",
      " Zksgntfg Rgzjdrodzqd vzr lzqqhdc sn z vnlzm zmc ezsgdqdc sgqdd bghkcqdm, Rtrzmmz, Gzlmds zmc Itchsg, odnokd gzud cdazsdc ghr rdwtzkhsx. Rnld odnokd, rtbg zr Odsdq Gnkkzmc ne sgd Rgzjdrodzqd Hmrshstsd zs Ahqlhmfgzl Tmhudqrhsx, gzud zqftdc sgzs Rgzjdrodzqd vzr onrrhakx ahrdwtzk adbztrd ne rnld ne sgd rnmmdsr gd vqnsd sgzs vdqd chqdbsdc snvzqcr xntmf ldm\n"
     ]
    },
    {
     "name": "stdout",
     "output_type": "stream",
     "text": [
      "\n",
      "Decrypted Cipher Without the key:\n",
      " ['Although Shakespeare was married to a woman and fathered three children, Susanna, Hamnet and Judith, people have debated his sexuality. Some people, such as Peter Holland of the Shakespeare Institute at Birmingham University, have argued that Shakespeare was possibly bisexual because of some of the sonnets he wrote that were directed towards young men']\n"
     ]
    }
   ],
   "source": [
    "ch = int(input(\"Enter your choice:\"))\n",
    "text = input(\"Enter the Text:\\n\")\n",
    "if ch == 1:\n",
    "    key = int(input(\"Enter the key in range 0-25:\"))\n",
    "    print(\"\\nEncrypted Cipher :\\n\",doEncryption(text,key))\n",
    "elif ch == 2:\n",
    "    print(\"\\nEncrypted Cipher :\\n\",doEncryption(text))\n",
    "elif ch == 3:\n",
    "    print(\"\\nDecrypted Cipher Without the key:\\n\",doDecryption(text))\n",
    "elif ch == 4:\n",
    "    key = int(input(\"Enter the key in range 0-25:\\n\"))\n",
    "    print(\"\\nDecrypted Cipher :\",doDecryption(text,key))"
   ]
  },
  {
   "cell_type": "code",
   "execution_count": null,
   "metadata": {},
   "outputs": [],
   "source": []
  }
 ],
 "metadata": {
  "kernelspec": {
   "display_name": "Python 3",
   "language": "python",
   "name": "python3"
  },
  "language_info": {
   "codemirror_mode": {
    "name": "ipython",
    "version": 3
   },
   "file_extension": ".py",
   "mimetype": "text/x-python",
   "name": "python",
   "nbconvert_exporter": "python",
   "pygments_lexer": "ipython3",
   "version": "3.7.7"
  }
 },
 "nbformat": 4,
 "nbformat_minor": 4
}
