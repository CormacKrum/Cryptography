{
 "cells": [
  {
   "cell_type": "code",
   "execution_count": 98,
   "metadata": {},
   "outputs": [],
   "source": [
    "import random\n",
    "from nltk.corpus import words\n",
    "import json"
   ]
  },
  {
   "cell_type": "code",
   "execution_count": 18,
   "metadata": {},
   "outputs": [],
   "source": [
    "alpha_to_num_lower = dict()\n",
    "alpha_to_num_upper = dict()\n",
    "for i in range(26):\n",
    "    alpha_to_num_lower[chr(i+97)] = i\n",
    "    alpha_to_num_upper[chr(i+65)] = i\n",
    "num_to_alpha_lower = dict([(value,key) for key,value in alpha_to_num_lower.items()])\n",
    "num_to_alpha_upper = dict([(value,key) for key,value in alpha_to_num_upper.items()])"
   ]
  },
  {
   "cell_type": "code",
   "execution_count": 120,
   "metadata": {},
   "outputs": [],
   "source": [
    "def doEncryption(text,encryptKey = random.randint(0,25)):\n",
    "    encryptedText = \"\"\n",
    "    for i in range(len(text)):\n",
    "        currentLetter = text[i]\n",
    "        if currentLetter in alpha_to_num_lower:\n",
    "            encryptedText += num_to_alpha_lower[(alpha_to_num_lower[currentLetter] + encryptKey)%26]\n",
    "        elif currentLetter in alpha_to_num_upper:\n",
    "            encryptedText += num_to_alpha_upper[(alpha_to_num_upper[currentLetter] + encryptKey)%26]\n",
    "        else:\n",
    "            encryptedText += currentLetter\n",
    "            \n",
    "    return encryptedText\n",
    "def doDecryptionWithoutKey(text):\n",
    "    pass\n",
    "\n",
    "\n",
    "def doDecryption(text,decryptKey=None):\n",
    "    decryptedText = \"\"\n",
    "    if decryptKey == None:\n",
    "        decryptKey = doDecryptionWithoutKey(text)\n",
    "    else:\n",
    "        for i in range(len(text)):\n",
    "            currentLetter = text[i]\n",
    "            if currentLetter in alpha_to_num_lower:\n",
    "                decryptedText += num_to_alpha_lower[(alpha_to_num_lower[currentLetter] - decryptKey)%26]\n",
    "            elif currentLetter in alpha_to_num_upper:\n",
    "                decryptedText += num_to_alpha_upper[(alpha_to_num_upper[currentLetter] - decryptKey)%26]\n",
    "            else:\n",
    "                decryptedText += currentLetter\n",
    "    return decryptedText"
   ]
  },
  {
   "cell_type": "markdown",
   "metadata": {},
   "source": [
    "## What do you wnat to do with text?\n",
    "<ol>\n",
    "    <li>Encrypt Text with key</li>\n",
    "    <li>Encrypt Text with random key</li>\n",
    "    <li>Decrypt Text without key</li>\n",
    "    <li>Decrypt Text with key</li>\n",
    "</ol>"
   ]
  },
  {
   "cell_type": "code",
   "execution_count": 9,
   "metadata": {},
   "outputs": [
    {
     "name": "stdin",
     "output_type": "stream",
     "text": [
      "Enter your choice: 2\n",
      "Enter the Text: hello\n"
     ]
    },
    {
     "name": "stdout",
     "output_type": "stream",
     "text": [
      "Encrypted Cipher : zwddg\n"
     ]
    }
   ],
   "source": [
    "ch = int(input(\"Enter your choice:\"))\n",
    "text = input(\"Enter the Text:\")\n",
    "if ch == 1:\n",
    "    key = int(input(\"Enter the key in range 0-25:\"))\n",
    "    print(\"Encrypted Cipher :\",doEncryption(text,key))\n",
    "elif ch == 2:\n",
    "    print(\"Encrypted Cipher :\",doEncryption(text))\n",
    "elif ch == 3:\n",
    "    print(\"decrypted Cipher :\",doDecryption(text))\n",
    "elif ch == 4:\n",
    "    key = int(input(\"Enter the key in range 0-25:\"))\n",
    "    print(\"Decrypted Cipher :\",doDecryption(text,key))"
   ]
  },
  {
   "cell_type": "code",
   "execution_count": 123,
   "metadata": {},
   "outputs": [
    {
     "data": {
      "text/plain": [
       "['do', 'do']"
      ]
     },
     "execution_count": 123,
     "metadata": {},
     "output_type": "execute_result"
    }
   ],
   "source": [
    "text = \"Hello How Do You Do\"\n",
    "text = text.lower()\n",
    "two_letter_words_to_num = dict()\n",
    "with open(\"Two_letter_word.txt\") as f:\n",
    "    two_letter_words_to_num = json.loads((f.read()).replace(\"\\'\",\"\\\"\"))\n",
    "\n",
    "num_to_two_letter_word = dict([(value,key) for key,value in two_letter_words_to_num.items()])\n",
    "\n",
    "two_letter_words_in_text = [word for word in text.split() if len(word) == 2]\n",
    "\n",
    "two_letter_words_in_text"
   ]
  },
  {
   "cell_type": "code",
   "execution_count": null,
   "metadata": {},
   "outputs": [],
   "source": []
  }
 ],
 "metadata": {
  "kernelspec": {
   "display_name": "Python 3",
   "language": "python",
   "name": "python3"
  },
  "language_info": {
   "codemirror_mode": {
    "name": "ipython",
    "version": 3
   },
   "file_extension": ".py",
   "mimetype": "text/x-python",
   "name": "python",
   "nbconvert_exporter": "python",
   "pygments_lexer": "ipython3",
   "version": "3.7.7"
  }
 },
 "nbformat": 4,
 "nbformat_minor": 4
}
